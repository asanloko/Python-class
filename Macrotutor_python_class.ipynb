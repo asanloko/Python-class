{
  "cells": [
    {
      "cell_type": "markdown",
      "id": "df7dd7d7",
      "metadata": {
        "id": "df7dd7d7"
      },
      "source": [
        "# MacroTutor Learn and Earn  Python Class"
      ]
    },
    {
      "cell_type": "markdown",
      "id": "263879df",
      "metadata": {
        "id": "263879df"
      },
      "source": [
        "# # Python Data Type\n",
        "\n",
        "Data types are  important concept in Python.\n",
        "\n",
        "We have different built-in data types in Python,but we are going to treat the four major ones, which are;\n",
        "\n",
        "1. String: Strings are text types and they are denoted with a single(' ') or double(\" \") quote.\n",
        "2. Integer: they are whole numbers. E.G 1,2,45,675,etc\n",
        "3. Float: They are numbers with a dot or decimal. E.G. 2.0, 8.9, 2.908, etc\n",
        "4. Boolean: They are True or False.\n",
        "\n",
        "Variables can be in different data types."
      ]
    },
    {
      "cell_type": "code",
      "execution_count": null,
      "id": "ccd007eb",
      "metadata": {
        "colab": {
          "base_uri": "https://localhost:8080/"
        },
        "id": "ccd007eb",
        "outputId": "15ffd74b-0d79-4c19-8021-e34f77444fe9"
      },
      "outputs": [
        {
          "output_type": "stream",
          "name": "stdout",
          "text": [
            "<class 'int'>\n"
          ]
        }
      ],
      "source": [
        "# Getting The Data Type\n",
        "\n",
        "# How do you know the data type of a variable?\n",
        "\n",
        "#To do this, we use the type() function.\n",
        "\n",
        "X= 5\n",
        "\n",
        "# To know the data type of X we will use the type() function.\n",
        "\n",
        "type(X)\n",
        "print(type(X))"
      ]
    },
    {
      "cell_type": "code",
      "execution_count": null,
      "id": "2138da77",
      "metadata": {
        "colab": {
          "base_uri": "https://localhost:8080/"
        },
        "id": "2138da77",
        "outputId": "bf907963-64e0-47ac-c4a6-50677e1e3898"
      },
      "outputs": [
        {
          "output_type": "stream",
          "name": "stdout",
          "text": [
            "<class 'str'>\n"
          ]
        }
      ],
      "source": [
        "# Setting the datatype\n",
        "\n",
        "# A data type is assigned to a variable when you set the value.\n",
        "\n",
        "y = \"Hello world\"\n",
        "\n",
        "# The data type of the variable is the data type of the value.\n",
        "\n",
        "print(type(y))\n",
        "\n"
      ]
    },
    {
      "cell_type": "code",
      "execution_count": null,
      "id": "c28a4d39",
      "metadata": {
        "colab": {
          "base_uri": "https://localhost:8080/"
        },
        "id": "c28a4d39",
        "outputId": "74fa72c8-8cf2-4978-9fb9-a320ad82fbb8"
      },
      "outputs": [
        {
          "output_type": "stream",
          "name": "stdout",
          "text": [
            "<class 'str'>\n"
          ]
        }
      ],
      "source": [
        "# setting specific Data type\n",
        "\n",
        "# You can set the specific datatype you want your variable to be .\n",
        "# to set my variable X to string i use the function str()\n",
        "\n",
        "X=str(X)\n",
        "print(type(X))"
      ]
    },
    {
      "cell_type": "code",
      "execution_count": null,
      "id": "ca245370",
      "metadata": {
        "id": "ca245370"
      },
      "outputs": [],
      "source": [
        "\n",
        "\n"
      ]
    },
    {
      "cell_type": "markdown",
      "source": [
        "## Exercise\n",
        "\n",
        "Create a variable age and assign 50 to it .\n",
        "\n",
        "\n",
        "\n",
        "Make the type of string and print it out."
      ],
      "metadata": {
        "id": "U4QU__mliqO8"
      },
      "id": "U4QU__mliqO8"
    }
  ],
  "metadata": {
    "kernelspec": {
      "display_name": "Python 3",
      "language": "python",
      "name": "python3"
    },
    "language_info": {
      "codemirror_mode": {
        "name": "ipython",
        "version": 3
      },
      "file_extension": ".py",
      "mimetype": "text/x-python",
      "name": "python",
      "nbconvert_exporter": "python",
      "pygments_lexer": "ipython3",
      "version": "3.8.8"
    },
    "colab": {
      "name": "Macrotutor python class.ipynb",
      "provenance": []
    }
  },
  "nbformat": 4,
  "nbformat_minor": 5
}